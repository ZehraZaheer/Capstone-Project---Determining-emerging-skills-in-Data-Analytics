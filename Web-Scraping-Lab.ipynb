{
 "cells": [
  {
   "cell_type": "markdown",
   "metadata": {},
   "source": [
    "<p style=\"text-align:center\">\n",
    "    <a href=\"https://skills.network/?utm_medium=Exinfluencer&utm_source=Exinfluencer&utm_content=000026UJ&utm_term=10006555&utm_id=NA-SkillsNetwork-Channel-SkillsNetworkCoursesIBMDA0321ENSkillsNetwork928-2022-01-01\" target=\"_blank\">\n",
    "    <img src=\"https://cf-courses-data.s3.us.cloud-object-storage.appdomain.cloud/assets/logos/SN_web_lightmode.png\" width=\"200\" alt=\"Skills Network Logo\"  />\n",
    "    </a>\n",
    "</p>\n"
   ]
  },
  {
   "cell_type": "markdown",
   "metadata": {},
   "source": [
    "# **Hands-on Lab : Web Scraping**\n"
   ]
  },
  {
   "cell_type": "markdown",
   "metadata": {},
   "source": [
    "Estimated time needed: **30 to 45** minutes\n"
   ]
  },
  {
   "cell_type": "markdown",
   "metadata": {},
   "source": [
    "## Objectives\n"
   ]
  },
  {
   "cell_type": "markdown",
   "metadata": {},
   "source": [
    "In this lab you will perform the following:\n"
   ]
  },
  {
   "cell_type": "markdown",
   "metadata": {},
   "source": [
    "* Extract information from a given web site \n",
    "* Write the scraped data into a csv file.\n"
   ]
  },
  {
   "cell_type": "markdown",
   "metadata": {},
   "source": [
    "## Extract information from the given web site\n",
    "You will extract the data from the below web site: <br> \n"
   ]
  },
  {
   "cell_type": "code",
   "execution_count": 1,
   "metadata": {},
   "outputs": [],
   "source": [
    "#this url contains the data you need to scrape\n",
    "url = \"https://cf-courses-data.s3.us.cloud-object-storage.appdomain.cloud/IBM-DA0321EN-SkillsNetwork/labs/datasets/Programming_Languages.html\""
   ]
  },
  {
   "cell_type": "markdown",
   "metadata": {},
   "source": [
    "The data you need to scrape is the **name of the programming language** and **average annual salary**.<br> It is a good idea to open the url in your web broswer and study the contents of the web page before you start to scrape.\n"
   ]
  },
  {
   "cell_type": "markdown",
   "metadata": {},
   "source": [
    "Import the required libraries\n"
   ]
  },
  {
   "cell_type": "code",
   "execution_count": 2,
   "metadata": {},
   "outputs": [
    {
     "name": "stdout",
     "output_type": "stream",
     "text": [
      "Collecting lxml==4.6.4\n",
      "  Downloading lxml-4.6.4-cp37-cp37m-manylinux_2_17_x86_64.manylinux2014_x86_64.manylinux_2_24_x86_64.whl (6.3 MB)\n",
      "\u001b[2K     \u001b[90m━━━━━━━━━━━━━━━━━━━━━━━━━━━━━━━━━━━━━━━━\u001b[0m \u001b[32m6.3/6.3 MB\u001b[0m \u001b[31m34.1 MB/s\u001b[0m eta \u001b[36m0:00:00\u001b[0m00:01\u001b[0m00:01\u001b[0m\n",
      "\u001b[?25hInstalling collected packages: lxml\n",
      "  Attempting uninstall: lxml\n",
      "    Found existing installation: lxml 4.9.1\n",
      "    Uninstalling lxml-4.9.1:\n",
      "      Successfully uninstalled lxml-4.9.1\n",
      "Successfully installed lxml-4.6.4\n",
      "\n",
      "                  __    __    __    __\n",
      "                 /  \\  /  \\  /  \\  /  \\\n",
      "                /    \\/    \\/    \\/    \\\n",
      "███████████████/  /██/  /██/  /██/  /████████████████████████\n",
      "              /  / \\   / \\   / \\   / \\  \\____\n",
      "             /  /   \\_/   \\_/   \\_/   \\    o \\__,\n",
      "            / _/                       \\_____/  `\n",
      "            |/\n",
      "        ███╗   ███╗ █████╗ ███╗   ███╗██████╗  █████╗\n",
      "        ████╗ ████║██╔══██╗████╗ ████║██╔══██╗██╔══██╗\n",
      "        ██╔████╔██║███████║██╔████╔██║██████╔╝███████║\n",
      "        ██║╚██╔╝██║██╔══██║██║╚██╔╝██║██╔══██╗██╔══██║\n",
      "        ██║ ╚═╝ ██║██║  ██║██║ ╚═╝ ██║██████╔╝██║  ██║\n",
      "        ╚═╝     ╚═╝╚═╝  ╚═╝╚═╝     ╚═╝╚═════╝ ╚═╝  ╚═╝\n",
      "\n",
      "        mamba (0.15.3) supported by @QuantStack\n",
      "\n",
      "        GitHub:  https://github.com/mamba-org/mamba\n",
      "        Twitter: https://twitter.com/QuantStack\n",
      "\n",
      "█████████████████████████████████████████████████████████████\n",
      "\n",
      "\n",
      "Looking for: ['html5lib==1.1']\n",
      "\n",
      "pkgs/main/linux-64       [<=>                 ] (00m:00s) \n",
      "pkgs/main/linux-64       [=>                ] (00m:00s) 636 KB / ?? (2.01 MB/s)\n",
      "pkgs/main/linux-64       [=>                ] (00m:00s) 636 KB / ?? (2.01 MB/s)\n",
      "pkgs/r/noarch            [<=>                 ] (00m:00s) \n",
      "pkgs/main/linux-64       [=>                ] (00m:00s) 636 KB / ?? (2.01 MB/s)\n",
      "pkgs/r/noarch            [=>                ] (00m:00s) 624 KB / ?? (1.99 MB/s)\n",
      "pkgs/main/linux-64       [=>                ] (00m:00s) 636 KB / ?? (2.01 MB/s)\n",
      "pkgs/r/noarch            [=>                ] (00m:00s) 624 KB / ?? (1.99 MB/s)\n",
      "pkgs/main/noarch         [<=>                 ] (00m:00s) \n",
      "pkgs/main/linux-64       [=>                ] (00m:00s) 636 KB / ?? (2.01 MB/s)\n",
      "pkgs/r/noarch            [=>                ] (00m:00s) 624 KB / ?? (1.99 MB/s)\n",
      "pkgs/main/noarch         [=>                ] (00m:00s) 704 KB / ?? (2.17 MB/s)\n",
      "pkgs/main/linux-64       [=>                ] (00m:00s) 636 KB / ?? (2.01 MB/s)\n",
      "pkgs/r/noarch            [=>                ] (00m:00s) 624 KB / ?? (1.99 MB/s)\n",
      "pkgs/main/noarch         [=>                ] (00m:00s) 704 KB / ?? (2.17 MB/s)\n",
      "pkgs/r/linux-64          [<=>                 ] (00m:00s) \n",
      "pkgs/main/linux-64       [=>                ] (00m:00s) 636 KB / ?? (2.01 MB/s)\n",
      "pkgs/r/noarch            [=>                ] (00m:00s) 624 KB / ?? (1.99 MB/s)\n",
      "pkgs/main/noarch         [=>                ] (00m:00s) 704 KB / ?? (2.17 MB/s)\n",
      "pkgs/r/linux-64          [=>                ] (00m:00s) 580 KB / ?? (1.78 MB/s)\n",
      "pkgs/main/linux-64       [=>                ] (00m:00s) 636 KB / ?? (2.01 MB/s)\n",
      "pkgs/r/noarch            [=>                ] (00m:00s) 624 KB / ?? (1.99 MB/s)\n",
      "pkgs/main/noarch         [<=>                 ] (00m:00s) Finalizing...\n",
      "pkgs/r/linux-64          [=>                ] (00m:00s) 580 KB / ?? (1.78 MB/s)\n",
      "pkgs/main/linux-64       [=>                ] (00m:00s) 636 KB / ?? (2.01 MB/s)\n",
      "pkgs/r/noarch            [=>                ] (00m:00s) 624 KB / ?? (1.99 MB/s)\n",
      "pkgs/main/noarch         [<=>                 ] (00m:00s) Done\n",
      "pkgs/r/linux-64          [=>                ] (00m:00s) 580 KB / ?? (1.78 MB/s)\n",
      "pkgs/main/noarch         [====================] (00m:00s) Done\n",
      "pkgs/main/linux-64       [=>                ] (00m:00s) 636 KB / ?? (2.01 MB/s)\n",
      "pkgs/r/noarch            [=>                ] (00m:00s) 624 KB / ?? (1.99 MB/s)\n",
      "pkgs/r/linux-64          [=>                ] (00m:00s) 580 KB / ?? (1.78 MB/s)\n",
      "pkgs/main/linux-64       [=>                ] (00m:00s) 636 KB / ?? (2.01 MB/s)\n",
      "pkgs/r/noarch            [<=>                 ] (00m:00s) Finalizing...\n",
      "pkgs/r/linux-64          [=>                ] (00m:00s) 580 KB / ?? (1.78 MB/s)\n",
      "pkgs/main/linux-64       [=>                ] (00m:00s) 636 KB / ?? (2.01 MB/s)\n",
      "pkgs/r/noarch            [<=>                 ] (00m:00s) Done\n",
      "pkgs/r/linux-64          [=>                ] (00m:00s) 580 KB / ?? (1.78 MB/s)\n",
      "pkgs/r/noarch            [====================] (00m:00s) Done\n",
      "pkgs/main/linux-64       [=>                ] (00m:00s) 636 KB / ?? (2.01 MB/s)\n",
      "pkgs/r/linux-64          [=>                ] (00m:00s) 580 KB / ?? (1.78 MB/s)\n",
      "pkgs/main/linux-64       [<=>               ] (00m:00s) 636 KB / ?? (2.01 MB/s)\n",
      "pkgs/r/linux-64          [=>                ] (00m:00s) 580 KB / ?? (1.78 MB/s)\n",
      "pkgs/main/linux-64       [ <=>                ] (00m:00s) 1 MB / ?? (2.83 MB/s)\n",
      "pkgs/r/linux-64          [=>                ] (00m:00s) 580 KB / ?? (1.78 MB/s)\n",
      "pkgs/main/linux-64       [ <=>                ] (00m:00s) 1 MB / ?? (2.83 MB/s)\n",
      "pkgs/r/linux-64          [<=>               ] (00m:00s) 580 KB / ?? (1.78 MB/s)\n",
      "pkgs/main/linux-64       [ <=>                ] (00m:00s) 1 MB / ?? (2.83 MB/s)\n",
      "pkgs/r/linux-64          [ <=>                ] (00m:00s) 1 MB / ?? (2.64 MB/s)\n",
      "pkgs/main/linux-64       [ <=>                ] (00m:01s) 1 MB / ?? (2.83 MB/s)\n",
      "pkgs/r/linux-64          [  <=>               ] (00m:01s) 1 MB / ?? (2.64 MB/s)\n",
      "pkgs/main/linux-64       [ <=>                ] (00m:01s) 1 MB / ?? (2.83 MB/s)\n",
      "pkgs/r/linux-64          [ <=>              ] (00m:01s) 1 MB / ?? (682.37 KB/s)\n",
      "pkgs/main/linux-64       [ <=>                ] (00m:01s) 1 MB / ?? (2.83 MB/s)\n",
      "pkgs/r/linux-64          [  <=>               ] (00m:01s) Finalizing...\n",
      "pkgs/main/linux-64       [ <=>                ] (00m:01s) 1 MB / ?? (2.83 MB/s)\n",
      "pkgs/r/linux-64          [  <=>               ] (00m:01s) Done\n",
      "pkgs/r/linux-64          [====================] (00m:01s) Done\n",
      "pkgs/main/linux-64       [ <=>                ] (00m:01s) 1 MB / ?? (2.83 MB/s)\n",
      "pkgs/main/linux-64       [  <=>               ] (00m:01s) 1 MB / ?? (2.83 MB/s)\n",
      "pkgs/main/linux-64       [ <=>              ] (00m:01s) 2 MB / ?? (748.62 KB/s)\n",
      "pkgs/main/linux-64       [  <=>             ] (00m:01s) 2 MB / ?? (748.62 KB/s)\n",
      "pkgs/main/linux-64       [   <=>              ] (00m:01s) 4 MB / ?? (1.97 MB/s)\n",
      "pkgs/main/linux-64       [    <=>             ] (00m:02s) 4 MB / ?? (1.97 MB/s)\n",
      "pkgs/main/linux-64       [    <=>             ] (00m:02s) 5 MB / ?? (2.20 MB/s)\n",
      "pkgs/main/linux-64       [    <=>             ] (00m:02s) Finalizing...\n",
      "pkgs/main/linux-64       [    <=>             ] (00m:02s) Done\n",
      "pkgs/main/linux-64       [====================] (00m:02s) Done\n",
      "\n",
      "Pinned packages:\n",
      "  - python 3.7.*\n",
      "\n",
      "\n",
      "Transaction\n",
      "\n",
      "  Prefix: /home/jupyterlab/conda/envs/python\n",
      "\n",
      "  Updating specs:\n",
      "\n",
      "   - html5lib==1.1\n",
      "   - ca-certificates\n",
      "   - certifi\n",
      "   - openssl\n",
      "\n",
      "\n",
      "  Package               Version  Build           Channel                  Size\n",
      "────────────────────────────────────────────────────────────────────────────────\n",
      "  Install:\n",
      "────────────────────────────────────────────────────────────────────────────────\n",
      "\n",
      "\u001b[32m  + html5lib       \u001b[00m         1.1  pyhd3eb1b0_0    pkgs/main/noarch        91 KB\n",
      "\u001b[32m  + webencodings   \u001b[00m       0.5.1  py37_1          pkgs/main/linux-64      19 KB\n",
      "\n",
      "  Upgrade:\n",
      "────────────────────────────────────────────────────────────────────────────────\n",
      "\n",
      "\u001b[31m  - ca-certificates\u001b[00m   2022.9.24  ha878542_0      installed                    \n",
      "\u001b[32m  + ca-certificates\u001b[00m  2023.01.10  h06a4308_0      pkgs/main/linux-64     120 KB\n",
      "\u001b[31m  - certifi        \u001b[00m   2022.9.24  pyhd8ed1ab_0    installed                    \n",
      "\u001b[32m  + certifi        \u001b[00m   2022.12.7  py37h06a4308_0  pkgs/main/linux-64     150 KB\n",
      "\u001b[31m  - openssl        \u001b[00m      1.1.1s  h0b41bf4_1      installed                    \n",
      "\u001b[32m  + openssl        \u001b[00m      1.1.1t  h7f8727e_0      pkgs/main/linux-64       4 MB\n",
      "\n",
      "  Summary:\n",
      "\n",
      "  Install: 2 packages\n",
      "  Upgrade: 3 packages\n",
      "\n",
      "  Total download: 4 MB\n",
      "\n",
      "────────────────────────────────────────────────────────────────────────────────\n",
      "\n",
      "Downloading  [>                                        ] (00m:00s)   74.01 KB/s\n",
      "Extracting   [>                                                      ] (--:--) \n",
      "\u001b[2A\u001b[0KFinished webencodings                         (00m:00s)              19 KB     74 KB/s\n",
      "Downloading  [>                                        ] (00m:00s)   74.01 KB/s\n",
      "Extracting   [>                                                      ] (--:--) \n",
      "Downloading  [>                                        ] (00m:00s)   74.01 KB/s\n",
      "Extracting   [>                                                      ] (--:--) \n",
      "Downloading  [>                                        ] (00m:00s)   74.01 KB/s\n",
      "Extracting   [>                                                      ] (--:--) \n",
      "Downloading  [>                                        ] (00m:00s)  417.93 KB/s\n",
      "Extracting   [>                                                      ] (--:--) \n",
      "\u001b[2A\u001b[0KFinished html5lib                             (00m:00s)              91 KB    348 KB/s\n",
      "Downloading  [==>                                      ] (00m:00s)  870.46 KB/s\n",
      "Extracting   [>                                                      ] (--:--) \n",
      "Downloading  [==>                                      ] (00m:00s)  870.46 KB/s\n",
      "Extracting   [>                                                      ] (--:--) \n",
      "Downloading  [==>                                      ] (00m:00s)  870.46 KB/s\n",
      "Extracting   [>                                                      ] (--:--) \n",
      "Downloading  [===>                                     ] (00m:00s)    1.39 MB/s\n",
      "Extracting   [>                                                      ] (--:--) \n",
      "\u001b[2A\u001b[0KFinished certifi                              (00m:00s)             150 KB    566 KB/s\n",
      "Downloading  [===>                                     ] (00m:00s)    1.39 MB/s\n",
      "Extracting   [>                                                      ] (--:--) \n",
      "Downloading  [===>                                     ] (00m:00s)    1.39 MB/s\n",
      "Extracting   [>                                                      ] (--:--) \n",
      "\u001b[2A\u001b[0KFinished ca-certificates                      (00m:00s)             120 KB    456 KB/s\n",
      "Downloading  [===>                                     ] (00m:00s)    1.39 MB/s\n",
      "Extracting   [>                                                      ] (--:--) \n",
      "Downloading  [===>                                     ] (00m:00s)    1.39 MB/s\n",
      "Extracting   [>                                                      ] (--:--) \n",
      "Downloading  [===>                                     ] (00m:00s)    1.39 MB/s\n",
      "Extracting   [>                                                      ] (--:--) \n",
      "Downloading  [===>                                     ] (00m:00s)    1.39 MB/s\n",
      "Extracting   [========>                                ] (00m:00s)        1 / 5\n",
      "Downloading  [===>                                     ] (00m:00s)    1.39 MB/s\n",
      "Extracting   [================>                        ] (00m:00s)        2 / 5\n",
      "Downloading  [===>                                     ] (00m:00s)    1.39 MB/s\n",
      "Extracting   [================>                        ] (00m:00s)        2 / 5\n",
      "Downloading  [==============================>          ] (00m:00s)   10.05 MB/s\n",
      "Extracting   [================>                        ] (00m:00s)        2 / 5\n",
      "Downloading  [==============================>          ] (00m:00s)   10.05 MB/s\n",
      "Extracting   [================>                        ] (00m:00s)        2 / 5\n",
      "Downloading  [==============================>          ] (00m:00s)   10.05 MB/s\n",
      "Extracting   [========================>                ] (00m:00s)        3 / 5\n",
      "Downloading  [==============================>          ] (00m:00s)   10.05 MB/s\n",
      "Extracting   [========================>                ] (00m:00s)        3 / 5\n",
      "Downloading  [=========================================] (00m:00s)   13.25 MB/s\n",
      "Extracting   [========================>                ] (00m:00s)        3 / 5\n",
      "Downloading  [=========================================] (00m:00s)   13.25 MB/s\n",
      "Extracting   [================================>        ] (00m:00s)        4 / 5\n",
      "\u001b[2A\u001b[0KFinished openssl                              (00m:00s)               4 MB     12 MB/s\n",
      "Downloading  [=========================================] (00m:00s)   13.25 MB/s\n",
      "Extracting   [================================>        ] (00m:00s)        4 / 5\n",
      "Downloading  [=========================================] (00m:00s)   13.25 MB/s\n",
      "Extracting   [================================>        ] (00m:00s)        4 / 5\n",
      "Downloading  [=========================================] (00m:00s)   13.25 MB/s\n",
      "Extracting   [================================>        ] (00m:00s)        4 / 5\n",
      "Downloading  [=========================================] (00m:00s)   13.25 MB/s\n",
      "Extracting   [=========================================] (00m:00s)        5 / 5\n",
      "Preparing transaction: done\n",
      "Verifying transaction: done\n",
      "Executing transaction: done\n"
     ]
    }
   ],
   "source": [
    "# Your code here\n",
    "!pip install lxml==4.6.4\n",
    "!mamba install html5lib==1.1 -y\n",
    "from bs4 import BeautifulSoup # this module helps in web scrapping.\n",
    "import requests"
   ]
  },
  {
   "cell_type": "markdown",
   "metadata": {},
   "source": [
    "Download the webpage at the url\n"
   ]
  },
  {
   "cell_type": "code",
   "execution_count": 3,
   "metadata": {},
   "outputs": [],
   "source": [
    "#your code goes here\n",
    "data  = requests.get(url).text "
   ]
  },
  {
   "cell_type": "markdown",
   "metadata": {},
   "source": [
    "Create a soup object\n"
   ]
  },
  {
   "cell_type": "code",
   "execution_count": 4,
   "metadata": {},
   "outputs": [],
   "source": [
    "#your code goes here\n",
    "soup = BeautifulSoup(data,\"lxml\") "
   ]
  },
  {
   "cell_type": "markdown",
   "metadata": {},
   "source": [
    "Scrape the `Language name` and `annual average salary`.\n"
   ]
  },
  {
   "cell_type": "code",
   "execution_count": 5,
   "metadata": {},
   "outputs": [
    {
     "name": "stdout",
     "output_type": "stream",
     "text": [
      "Language--->Average Annual Salary\n",
      "Python--->$114,383\n",
      "Java--->$101,013\n",
      "R--->$92,037\n",
      "Javascript--->$110,981\n",
      "Swift--->$130,801\n",
      "C++--->$113,865\n",
      "C#--->$88,726\n",
      "PHP--->$84,727\n",
      "SQL--->$84,793\n",
      "Go--->$94,082\n"
     ]
    }
   ],
   "source": [
    "#your code goes here\n",
    "table = soup.find('table')\n",
    "for row in table.find_all('tr'): \n",
    "    cols = row.find_all('td') # in html a column is represented by the tag <td>\n",
    "    Language_name = cols[1].getText() # store the value in column 3 as color_name\n",
    "    annual_average_salary = cols[3].getText() # store the value in column 4 as color_code\n",
    "    print(\"{}--->{}\".format(Language_name,annual_average_salary))"
   ]
  },
  {
   "cell_type": "markdown",
   "metadata": {},
   "source": [
    "Save the scrapped data into a file named *popular-languages.csv*\n"
   ]
  },
  {
   "cell_type": "code",
   "execution_count": 6,
   "metadata": {},
   "outputs": [],
   "source": [
    "# your code goes heretx\n",
    "csvfile1=open('popular-languages3.csv','w+')\n",
    "row1 = \"Language, Average Annual Salary\"\n",
    "csvfile1.write(row1)\n",
    "csvfile1=open('popular-languages3.csv','a')\n",
    "for row in table.find_all('tr'): \n",
    "    cols = row.find_all('td') # in html a column is represented by the tag <td>\n",
    "    Language_name = cols[1].getText() # store the value in column 3 as color_name\n",
    "    annual_average_salary = cols[3].getText() # store the value in column 4 as color_code\n",
    "    csvfile1.write(\"\\n{},{}\".format(Language_name,annual_average_salary))\n",
    "    csvfile1.seek(0)"
   ]
  },
  {
   "cell_type": "code",
   "execution_count": 7,
   "metadata": {},
   "outputs": [
    {
     "name": "stdout",
     "output_type": "stream",
     "text": [
      "Language, Average Annual Salary\n",
      "Language,Average Annual Salary\n",
      "Python,$114,383\n",
      "Java,$101,013\n",
      "R,$92,037\n",
      "Javascript,$110,981\n",
      "Swift,$130,801\n",
      "C++,$113,865\n",
      "C#,$88,726\n",
      "PHP,$84,727\n",
      "SQL,$84,793\n",
      "Go,$94,082\n"
     ]
    }
   ],
   "source": [
    "file = open(\"popular-languages3.csv\", \"r\")\n",
    "print(file.read())\n",
    "file.close()"
   ]
  },
  {
   "cell_type": "code",
   "execution_count": 41,
   "metadata": {},
   "outputs": [
    {
     "name": "stdout",
     "output_type": "stream",
     "text": [
      "['Language', 'Python', 'Java', 'R', 'Javascript', 'Swift', 'C++', 'C#', 'PHP', 'SQL', 'Go'] ['Average Annual Salary', '$114,383', '$101,013', '$92,037', '$110,981', '$130,801', '$113,865', '$88,726', '$84,727', '$84,793', '$94,082']\n"
     ]
    }
   ],
   "source": [
    "L1 = []\n",
    "L2 =[]\n",
    "for row in table.find_all('tr'): \n",
    "    cols = row.find_all('td') # in html a column is represented by the tag <td>\n",
    "    Language_name = cols[1].getText() # store the value in column 3 as color_name\n",
    "    annual_average_salary = cols[3].getText() \n",
    "    L1.append(Language_name )\n",
    "    L2.append(annual_average_salary)\n",
    "print (L1,L2)"
   ]
  },
  {
   "cell_type": "code",
   "execution_count": 50,
   "metadata": {},
   "outputs": [
    {
     "name": "stdout",
     "output_type": "stream",
     "text": [
      "    Languages  Annual_Salaries\n",
      "7         PHP            84727\n",
      "8         SQL            84793\n",
      "6          C#            88726\n",
      "2           R            92037\n",
      "9          Go            94082\n",
      "1        Java           101013\n",
      "3  Javascript           110981\n",
      "5         C++           113865\n",
      "0      Python           114383\n",
      "4       Swift           130801\n"
     ]
    },
    {
     "data": {
      "image/png": "[encoded data removed]",
      "text/plain": [
       "<Figure size 640x480 with 1 Axes>"
      ]
     },
     "metadata": {},
     "output_type": "display_data"
    }
   ],
   "source": [
    "import matplotlib.pyplot as plt\n",
    "import numpy as np\n",
    "L3= L1[1:len(L1)]\n",
    "x = L3\n",
    "y = [114383, 101013, 92037, 110981, 130801, 113865, 88726, 84727, 84793, 94082]\n",
    "df = pd.DataFrame(dict(Languages=L3,Annual_Salaries = y)).sort_values(\"Annual_Salaries\", ascending = True)\n",
    "print(df)\n",
    "plt.barh(df[\"Languages\"],df[\"Annual_Salaries\"])\n",
    "plt.xlabel(\"Average Annual Salaries (USD)\")\n",
    "plt.ylabel(\"Programming Languages\")\n",
    "plt.title(\"Average Annual Salaries in USD for Different Programming Languages\")\n",
    "plt.show()"
   ]
  },
  {
   "cell_type": "markdown",
   "metadata": {},
   "source": [
    "## Authors\n"
   ]
  },
  {
   "cell_type": "markdown",
   "metadata": {},
   "source": [
    "Ramesh Sannareddy\n"
   ]
  },
  {
   "cell_type": "markdown",
   "metadata": {},
   "source": [
    "### Other Contributors\n"
   ]
  },
  {
   "cell_type": "markdown",
   "metadata": {},
   "source": [
    "Rav Ahuja\n"
   ]
  },
  {
   "cell_type": "markdown",
   "metadata": {},
   "source": [
    "## Change Log\n"
   ]
  },
  {
   "cell_type": "markdown",
   "metadata": {},
   "source": [
    "|  Date (YYYY-MM-DD) |  Version | Changed By  |  Change Description |\n",
    "|---|---|---|---|\n",
    "| 2020-10-17  | 0.1  | Ramesh Sannareddy  |  Created initial version of the lab |\n"
   ]
  },
  {
   "cell_type": "markdown",
   "metadata": {},
   "source": [
    " Copyright &copy; 2020 IBM Corporation. This notebook and its source code are released under the terms of the [MIT License](https://cognitiveclass.ai/mit-license/?utm_medium=Exinfluencer&utm_source=Exinfluencer&utm_content=000026UJ&utm_term=10006555&utm_id=NA-SkillsNetwork-Channel-SkillsNetworkCoursesIBMDA0321ENSkillsNetwork928-2022-01-01).\n"
   ]
  }
 ],
 "metadata": {
  "kernelspec": {
   "display_name": "Python",
   "language": "python",
   "name": "conda-env-python-py"
  },
  "language_info": {
   "codemirror_mode": {
    "name": "ipython",
    "version": 3
   },
   "file_extension": ".py",
   "mimetype": "text/x-python",
   "name": "python",
   "nbconvert_exporter": "python",
   "pygments_lexer": "ipython3",
   "version": "3.7.12"
  }
 },
 "nbformat": 4,
 "nbformat_minor": 4
}
